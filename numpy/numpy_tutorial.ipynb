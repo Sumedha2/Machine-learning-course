{
  "nbformat": 4,
  "nbformat_minor": 0,
  "metadata": {
    "colab": {
      "name": "numpy tutorial.ipynb",
      "provenance": [],
      "collapsed_sections": [],
      "toc_visible": true
    },
    "kernelspec": {
      "name": "python3",
      "display_name": "Python 3"
    }
  },
  "cells": [
    {
      "cell_type": "markdown",
      "metadata": {
        "id": "1moE1ZUo3qjr",
        "colab_type": "text"
      },
      "source": [
        "# Installing numpy"
      ]
    },
    {
      "cell_type": "code",
      "metadata": {
        "id": "4m8Au51U3myz",
        "colab_type": "code",
        "colab": {}
      },
      "source": [
        "! pip install numpy"
      ],
      "execution_count": 0,
      "outputs": []
    },
    {
      "cell_type": "markdown",
      "metadata": {
        "id": "DacsZ7hC3WBM",
        "colab_type": "text"
      },
      "source": [
        "# What is numpy"
      ]
    },
    {
      "cell_type": "markdown",
      "metadata": {
        "id": "iDyirK-Y2Z-E",
        "colab_type": "text"
      },
      "source": [
        "\n",
        "\n",
        "*   NumPy is a Python package which stands for ‘Numerical Python’.\n",
        "*   It is the core library for scientific computing, which contains a powerful n-dimensional array object.\n",
        "* We use python numpy array instead of a list because of the below three reasons: \n",
        "\n",
        "    *   Less Memory\n",
        "    *   Fast\n",
        "    *   Convenient\n"
      ]
    },
    {
      "cell_type": "code",
      "metadata": {
        "id": "l63ntYtL3u-6",
        "colab_type": "code",
        "outputId": "86f0f0ae-fdf2-4159-b4cc-fcff39219fd2",
        "colab": {
          "base_uri": "https://localhost:8080/",
          "height": 51
        }
      },
      "source": [
        "#Code to verify numpy array takes lesser memory than python lists\n",
        "import numpy as np\n",
        " \n",
        "import time\n",
        "import sys\n",
        "S= range(1000)\n",
        "print(sys.getsizeof(5)*len(S))\n",
        " \n",
        "D= np.arange(1000)\n",
        "print(D.size*D.itemsize)"
      ],
      "execution_count": 0,
      "outputs": [
        {
          "output_type": "stream",
          "text": [
            "28000\n",
            "8000\n"
          ],
          "name": "stdout"
        }
      ]
    },
    {
      "cell_type": "code",
      "metadata": {
        "id": "h2ucDPBL393K",
        "colab_type": "code",
        "colab": {}
      },
      "source": [
        "#code to verify numpy arrays are faster than python lists\n",
        "import time\n",
        "import sys\n",
        " \n",
        "SIZE = 1000000\n",
        " \n",
        "L1= range(SIZE)\n",
        "L2= range(SIZE)\n",
        "A1= np.arange(SIZE)\n",
        "A2=np.arange(SIZE)\n",
        " \n",
        "start= time.time()\n",
        "result=[(x,y) for x,y in zip(L1,L2)]\n",
        "print((time.time()-start)*1000)\n",
        " \n",
        "start=time.time()\n",
        "result= A1+A2\n",
        "print((time.time()-start)*1000)"
      ],
      "execution_count": 0,
      "outputs": []
    },
    {
      "cell_type": "markdown",
      "metadata": {
        "id": "wkHoYSRv4PmP",
        "colab_type": "text"
      },
      "source": [
        "# The Basics"
      ]
    },
    {
      "cell_type": "markdown",
      "metadata": {
        "id": "8bj4EcsG9O9D",
        "colab_type": "text"
      },
      "source": [
        "## Intro to Numpy array"
      ]
    },
    {
      "cell_type": "markdown",
      "metadata": {
        "id": "ORtSbROK4gPP",
        "colab_type": "text"
      },
      "source": [
        "\n",
        "\n",
        "*   NumPy’s main object is the homogeneous multidimensional array.\n",
        "*   It is a table of elements (usually numbers), all of the same type\n",
        "*   In NumPy dimensions are called axes.\n",
        "*   In the example below, the array has 2 axes. The first axis has a length of 2, the second axis has a length of 3."
      ]
    },
    {
      "cell_type": "code",
      "metadata": {
        "id": "Ia_o0JHv4d9U",
        "colab_type": "code",
        "colab": {}
      },
      "source": [
        "a=[[ 1., 0., 0.],\n",
        " [ 0., 1., 2.]]"
      ],
      "execution_count": 0,
      "outputs": []
    },
    {
      "cell_type": "markdown",
      "metadata": {
        "id": "CDTVMP9I7-f8",
        "colab_type": "text"
      },
      "source": [
        "*   NumPy’s array class is called ndarray. It is also known by the alias array.\n",
        "*   The important attributes of an ndarray object are:\n",
        "\n",
        "\n",
        "\n",
        "1.   **ndarray.ndim**\n",
        "\n",
        "      the number of axes (dimensions) of the array.\n",
        "\n",
        "2.   **ndarray.shape**\n",
        "\n",
        "  the dimensions of the array. This is a tuple of integers indicating the size of the array in each dimension. For a matrix with n rows and m columns, shape will be (n,m). The length of the shape tuple is therefore the number of axes, ndim.\n",
        "\n",
        "3.   **ndarray.size**\n",
        "\n",
        "  the total number of elements of the array. This is equal to the product of the elements of shape.\n",
        "\n",
        "4.  **ndarray.dtype** \n",
        "\n",
        "  an object describing the type of the elements in the array. One can create or specify dtype’s using standard Python types. Additionally NumPy provides types of its own. numpy.int32, numpy.int16, and numpy.float64 are some examples.\n",
        "\n",
        "5.  **ndarray.itemsize**\n",
        "\n",
        "  the size in bytes of each element of the array. For example, an array of elements of type float64 has itemsize 8 (=64/8), while one of type complex32 has itemsize 4 (=32/8). It is equivalent to ndarray.dtype.itemsize.\n",
        "\n",
        "6.  **ndarray.data**\n",
        "\n",
        "  the buffer containing the actual elements of the array. Normally, we won’t need to use this attribute because we will access the elements in an array using indexing facilities."
      ]
    },
    {
      "cell_type": "code",
      "metadata": {
        "id": "ij1OaZeK8m-8",
        "colab_type": "code",
        "outputId": "930ce23d-6fd0-4c9a-98ab-80f72050c6a3",
        "colab": {
          "base_uri": "https://localhost:8080/",
          "height": 181
        }
      },
      "source": [
        "import numpy as np\n",
        "a = np.arange(15).reshape(3, 5)\n",
        "print(a)\n",
        "print(\"shape\",a.shape)\n",
        "print(\"dimesnsions\",a.ndim)\n",
        "print(\"datatype\",a.dtype.name)\n",
        "print(\"itemsize\",a.itemsize)\n",
        "print(\"array size\",a.size)\n",
        "print(\"type of a\", type(a))"
      ],
      "execution_count": 0,
      "outputs": [
        {
          "output_type": "stream",
          "text": [
            "[[ 0  1  2  3  4]\n",
            " [ 5  6  7  8  9]\n",
            " [10 11 12 13 14]]\n",
            "shape (3, 5)\n",
            "dimesnsions 2\n",
            "datatype int64\n",
            "itemsize 8\n",
            "array size 15\n",
            "type of a <class 'numpy.ndarray'>\n"
          ],
          "name": "stdout"
        }
      ]
    },
    {
      "cell_type": "markdown",
      "metadata": {
        "id": "cZqFKx8s9oi1",
        "colab_type": "text"
      },
      "source": [
        "##Array creation"
      ]
    },
    {
      "cell_type": "code",
      "metadata": {
        "id": "oDKqs7Cq9VDd",
        "colab_type": "code",
        "colab": {}
      },
      "source": [
        "# First method is to create an array using python list or tuple\n",
        "import numpy as np\n",
        "a = np.array([2,3,4])\n",
        "print(a)\n",
        "print(a.dtype)\n",
        "\n",
        "b = np.array([1.2, 3.5, 5.1])\n",
        "print(b.dtype)"
      ],
      "execution_count": 0,
      "outputs": []
    },
    {
      "cell_type": "markdown",
      "metadata": {
        "id": "CpwX_lfR-Y78",
        "colab_type": "text"
      },
      "source": [
        "A frequent error consists in calling array with multiple numeric arguments, rather than providing a single list of numbers as an argument."
      ]
    },
    {
      "cell_type": "code",
      "metadata": {
        "id": "jTUg5d6T-RSL",
        "colab_type": "code",
        "colab": {}
      },
      "source": [
        "a = np.array(1,2,3,4)    # WRONG\n",
        "a = np.array([1,2,3,4])  # RIGHT"
      ],
      "execution_count": 0,
      "outputs": []
    },
    {
      "cell_type": "markdown",
      "metadata": {
        "id": "W01vIuRo-bDx",
        "colab_type": "text"
      },
      "source": [
        "array transforms sequences of sequences into two-dimensional arrays, sequences of sequences of sequences into three-dimensional arrays, and so on."
      ]
    },
    {
      "cell_type": "code",
      "metadata": {
        "id": "rDaMLynY-neI",
        "colab_type": "code",
        "outputId": "b951d36c-fa57-4b2e-c7f8-c4b3c9874816",
        "colab": {
          "base_uri": "https://localhost:8080/",
          "height": 54
        }
      },
      "source": [
        "b = np.array([(1.5,2,3), (4,5,6)])\n",
        "b"
      ],
      "execution_count": 0,
      "outputs": [
        {
          "output_type": "execute_result",
          "data": {
            "text/plain": [
              "array([[1.5, 2. , 3. ],\n",
              "       [4. , 5. , 6. ]])"
            ]
          },
          "metadata": {
            "tags": []
          },
          "execution_count": 3
        }
      ]
    },
    {
      "cell_type": "markdown",
      "metadata": {
        "id": "mOHSfq_0-uCw",
        "colab_type": "text"
      },
      "source": [
        "The type of the array can also be explicitly specified at creation time:"
      ]
    },
    {
      "cell_type": "code",
      "metadata": {
        "id": "1PwN-wj_-ouA",
        "colab_type": "code",
        "colab": {}
      },
      "source": [
        "c = np.array( [ [1,2], [3,4] ], dtype=complex )\n",
        "c"
      ],
      "execution_count": 0,
      "outputs": []
    },
    {
      "cell_type": "markdown",
      "metadata": {
        "id": "6G7D9cWD-xhY",
        "colab_type": "text"
      },
      "source": [
        "Often, the elements of an array are originally unknown, but its size is known. Hence, NumPy offers several functions to create arrays with initial placeholder content. These minimize the necessity of growing arrays, an expensive operation.\n",
        "\n",
        "The function zeros creates an array full of zeros, the function ones creates an array full of ones, and the function empty creates an array whose initial content is random and depends on the state of the memory. By default, the dtype of the created array is float64."
      ]
    },
    {
      "cell_type": "code",
      "metadata": {
        "id": "YDkIZacp_Lz5",
        "colab_type": "code",
        "outputId": "e607a787-a4c2-4e59-bc47-4d3b7a39f43b",
        "colab": {
          "base_uri": "https://localhost:8080/",
          "height": 221
        }
      },
      "source": [
        "a=np.zeros( (3,4) )\n",
        "b=np.ones( (2,3,4), dtype=np.int16 )# dtype can also be specified\n",
        "c=np.empty( (2,3) )# uninitialized, output may vary\n",
        "print(a)\n",
        "print(b)\n",
        "print(c)"
      ],
      "execution_count": 0,
      "outputs": [
        {
          "output_type": "stream",
          "text": [
            "[[0. 0. 0. 0.]\n",
            " [0. 0. 0. 0.]\n",
            " [0. 0. 0. 0.]]\n",
            "[[[1 1 1 1]\n",
            "  [1 1 1 1]\n",
            "  [1 1 1 1]]\n",
            "\n",
            " [[1 1 1 1]\n",
            "  [1 1 1 1]\n",
            "  [1 1 1 1]]]\n",
            "[[2.75001682e-316 2.80510711e-316 2.80514031e-316]\n",
            " [1.55078564e+223 3.80984981e+180 4.90922779e+252]]\n"
          ],
          "name": "stdout"
        }
      ]
    },
    {
      "cell_type": "markdown",
      "metadata": {
        "id": "JlTVgF0pDPSC",
        "colab_type": "text"
      },
      "source": [
        "To create sequences of numbers, NumPy provides a function analogous to range that returns arrays instead of lists."
      ]
    },
    {
      "cell_type": "code",
      "metadata": {
        "id": "s0y3l3XdATHv",
        "colab_type": "code",
        "outputId": "883af54b-bba7-4599-ffb8-d0ce3a091a8d",
        "colab": {
          "base_uri": "https://localhost:8080/",
          "height": 51
        }
      },
      "source": [
        "a=np.arange( 10, 30, 5 )\n",
        "\n",
        "b=np.arange( 0, 2, 0.3 )                 # it accepts float arguments\n",
        "print(a)\n",
        "print(b)"
      ],
      "execution_count": 0,
      "outputs": [
        {
          "output_type": "stream",
          "text": [
            "[10 15 20 25]\n",
            "[0.  0.3 0.6 0.9 1.2 1.5 1.8]\n"
          ],
          "name": "stdout"
        }
      ]
    },
    {
      "cell_type": "markdown",
      "metadata": {
        "id": "d9-ZuW7oFsxP",
        "colab_type": "text"
      },
      "source": [
        "When arange is used with floating point arguments, it is generally not possible to predict the number of elements obtained, due to the finite floating point precision. For this reason, it is usually better to use the function linspace that receives as an argument the number of elements that we want, instead of the step:"
      ]
    },
    {
      "cell_type": "code",
      "metadata": {
        "id": "f9hpQLC_Dct-",
        "colab_type": "code",
        "outputId": "7ebc41a9-f040-4745-8a4a-e1a74631e5f4",
        "colab": {
          "base_uri": "https://localhost:8080/",
          "height": 34
        }
      },
      "source": [
        "from numpy import pi\n",
        "k=np.linspace( 0, 2, 9 )                 # 9 numbers from 0 to 2\n",
        "print(k)"
      ],
      "execution_count": 0,
      "outputs": [
        {
          "output_type": "stream",
          "text": [
            "[0.   0.25 0.5  0.75 1.   1.25 1.5  1.75 2.  ]\n"
          ],
          "name": "stdout"
        }
      ]
    },
    {
      "cell_type": "markdown",
      "metadata": {
        "id": "MwBOQoosH0sH",
        "colab_type": "text"
      },
      "source": [
        "## Printing Arrays"
      ]
    },
    {
      "cell_type": "markdown",
      "metadata": {
        "id": "yLBzmzvcH5hh",
        "colab_type": "text"
      },
      "source": [
        "When you print an array, NumPy displays it in a similar way to nested lists, but with the following layout:\n",
        "\n",
        "* the last axis is printed from left to right,\n",
        "* the second-to-last is printed from top to bottom,\n",
        "* the rest are also printed from top to bottom, with each slice separated from the next by an empty line.\n",
        "\n"
      ]
    },
    {
      "cell_type": "code",
      "metadata": {
        "id": "PVKJuO3mF2wd",
        "colab_type": "code",
        "colab": {}
      },
      "source": [
        "a = np.arange(6)                         # 1d array\n",
        "print(a)\n",
        "\n",
        "b = np.arange(12).reshape(4,3)           # 2d array\n",
        "print(b)\n",
        "\n",
        "c = np.arange(24).reshape(2,3,4)         # 3d array\n",
        "print(c)"
      ],
      "execution_count": 0,
      "outputs": []
    },
    {
      "cell_type": "markdown",
      "metadata": {
        "id": "Hrbvrx0ammfM",
        "colab_type": "text"
      },
      "source": [
        "If an array is too large to be printed, NumPy automatically skips the central part of the array and only prints the corners:"
      ]
    },
    {
      "cell_type": "code",
      "metadata": {
        "id": "Y-vOya9lmoPf",
        "colab_type": "code",
        "outputId": "283fc933-d38a-4f8e-98bd-db0fc599eb4c",
        "colab": {
          "base_uri": "https://localhost:8080/",
          "height": 153
        }
      },
      "source": [
        "print(np.arange(10000))\n",
        "\n",
        "\n",
        "\n",
        "print(np.arange(10000).reshape(100,100))"
      ],
      "execution_count": 0,
      "outputs": [
        {
          "output_type": "stream",
          "text": [
            "[   0    1    2 ... 9997 9998 9999]\n",
            "[[   0    1    2 ...   97   98   99]\n",
            " [ 100  101  102 ...  197  198  199]\n",
            " [ 200  201  202 ...  297  298  299]\n",
            " ...\n",
            " [9700 9701 9702 ... 9797 9798 9799]\n",
            " [9800 9801 9802 ... 9897 9898 9899]\n",
            " [9900 9901 9902 ... 9997 9998 9999]]\n"
          ],
          "name": "stdout"
        }
      ]
    },
    {
      "cell_type": "markdown",
      "metadata": {
        "id": "pEV2vt5CoAnJ",
        "colab_type": "text"
      },
      "source": [
        "##Basic Operations"
      ]
    },
    {
      "cell_type": "markdown",
      "metadata": {
        "id": "uxODQY8Lo3yF",
        "colab_type": "text"
      },
      "source": [
        "### Arithmetic Operations"
      ]
    },
    {
      "cell_type": "code",
      "metadata": {
        "id": "6Dy3sMNZnEeM",
        "colab_type": "code",
        "outputId": "a7812929-93eb-4caa-f60a-7ec6f3e39836",
        "colab": {
          "base_uri": "https://localhost:8080/",
          "height": 85
        }
      },
      "source": [
        "a = np.array( [20,30,40,50] )\n",
        "b = np.arange( 4 )\n",
        "print(b)\n",
        "print(a-b)\n",
        "print(b**2)\n",
        "print(a<35)"
      ],
      "execution_count": 0,
      "outputs": [
        {
          "output_type": "stream",
          "text": [
            "[0 1 2 3]\n",
            "[20 29 38 47]\n",
            "[0 1 4 9]\n",
            "[ True  True False False]\n"
          ],
          "name": "stdout"
        }
      ]
    },
    {
      "cell_type": "code",
      "metadata": {
        "id": "UXxex0nzsRAA",
        "colab_type": "code",
        "outputId": "75b06a0d-61fa-4b6c-e3ad-7edc8826ff0d",
        "colab": {
          "base_uri": "https://localhost:8080/",
          "height": 153
        }
      },
      "source": [
        "a = np.ones((2,3), dtype=int)\n",
        "b = np.ones((2,3), dtype=int)\n",
        "print(a)\n",
        "print(b)\n",
        "a *= 3\n",
        "print(a)\n",
        "\n",
        "\n",
        "b += a\n",
        "print(b)"
      ],
      "execution_count": 0,
      "outputs": [
        {
          "output_type": "stream",
          "text": [
            "[[1 1 1]\n",
            " [1 1 1]]\n",
            "[[1 1 1]\n",
            " [1 1 1]]\n",
            "[[3 3 3]\n",
            " [3 3 3]]\n",
            "[[4 4 4]\n",
            " [4 4 4]]\n"
          ],
          "name": "stdout"
        }
      ]
    },
    {
      "cell_type": "code",
      "metadata": {
        "id": "h_-JgHw6z122",
        "colab_type": "code",
        "outputId": "bb4ecce4-62d8-4e93-c074-fc508eee5382",
        "colab": {
          "base_uri": "https://localhost:8080/",
          "height": 119
        }
      },
      "source": [
        "a = np.arange(12).reshape(3,4)\n",
        "print(a)\n",
        "\n",
        "\n",
        "print(a.sum())\n",
        "\n",
        "print(a.min())\n",
        "\n",
        "print(a.max())"
      ],
      "execution_count": 0,
      "outputs": [
        {
          "output_type": "stream",
          "text": [
            "[[ 0  1  2  3]\n",
            " [ 4  5  6  7]\n",
            " [ 8  9 10 11]]\n",
            "66\n",
            "0\n",
            "11\n"
          ],
          "name": "stdout"
        }
      ]
    },
    {
      "cell_type": "markdown",
      "metadata": {
        "id": "6eumAV490T4g",
        "colab_type": "text"
      },
      "source": [
        "By default, these operations apply to the array as though it were a list of numbers, regardless of its shape. However, by specifying the axis parameter you can apply an operation along the specified axis of an array:"
      ]
    },
    {
      "cell_type": "code",
      "metadata": {
        "id": "V4JkuxO10Web",
        "colab_type": "code",
        "outputId": "6586a02e-03dc-4952-d738-bf16951acf49",
        "colab": {
          "base_uri": "https://localhost:8080/",
          "height": 153
        }
      },
      "source": [
        "b = np.arange(12).reshape(3,4)\n",
        "print(b)\n",
        "print(b.sum(axis=0))# sum of each column\n",
        "print(b.min(axis=1))# min of each row\n",
        "print(b.cumsum(axis=1)) # cumulative sum along each row"
      ],
      "execution_count": 0,
      "outputs": [
        {
          "output_type": "stream",
          "text": [
            "[[ 0  1  2  3]\n",
            " [ 4  5  6  7]\n",
            " [ 8  9 10 11]]\n",
            "[12 15 18 21]\n",
            "[0 4 8]\n",
            "[[ 0  1  3  6]\n",
            " [ 4  9 15 22]\n",
            " [ 8 17 27 38]]\n"
          ],
          "name": "stdout"
        }
      ]
    },
    {
      "cell_type": "markdown",
      "metadata": {
        "id": "k8ZSkErfo7BD",
        "colab_type": "text"
      },
      "source": [
        "### Matrix Operations"
      ]
    },
    {
      "cell_type": "code",
      "metadata": {
        "id": "u3GsA_lcoUSE",
        "colab_type": "code",
        "outputId": "ceb123f0-953e-4625-f172-1cd12bcd14c1",
        "colab": {
          "base_uri": "https://localhost:8080/",
          "height": 153
        }
      },
      "source": [
        "A = np.array( [[1,1],\n",
        "            [0,1]] )\n",
        "B = np.array( [[2,0],\n",
        "            [3,4]] )\n",
        "print(A * B) # elementwise product\n",
        "print()\n",
        "print(A @ B) # matrix product\n",
        "print()\n",
        "print(A.dot(B)) # another matrix product"
      ],
      "execution_count": 0,
      "outputs": [
        {
          "output_type": "stream",
          "text": [
            "[[2 0]\n",
            " [0 4]]\n",
            "\n",
            "[[5 4]\n",
            " [3 4]]\n",
            "\n",
            "[[5 4]\n",
            " [3 4]]\n"
          ],
          "name": "stdout"
        }
      ]
    },
    {
      "cell_type": "markdown",
      "metadata": {
        "id": "E6L9NSI44-YY",
        "colab_type": "text"
      },
      "source": [
        "#Indexing, Slicing and Iterating"
      ]
    },
    {
      "cell_type": "markdown",
      "metadata": {
        "id": "hdS73dPZ5Fxu",
        "colab_type": "text"
      },
      "source": [
        "**One-dimensional arrays** can be indexed, sliced and iterated over, much like lists and other Python sequences."
      ]
    },
    {
      "cell_type": "code",
      "metadata": {
        "id": "bdANy8Wf4T8H",
        "colab_type": "code",
        "outputId": "faa27b96-ec90-4397-8a4b-77cb5748a21c",
        "colab": {
          "base_uri": "https://localhost:8080/",
          "height": 34
        }
      },
      "source": [
        "a = np.arange(10)**3\n",
        "a"
      ],
      "execution_count": 0,
      "outputs": [
        {
          "output_type": "execute_result",
          "data": {
            "text/plain": [
              "array([  0,   1,   8,  27,  64, 125, 216, 343, 512, 729])"
            ]
          },
          "metadata": {
            "tags": []
          },
          "execution_count": 34
        }
      ]
    },
    {
      "cell_type": "code",
      "metadata": {
        "id": "LF0nVb6E5PHO",
        "colab_type": "code",
        "outputId": "49cc4086-3052-4d8b-ffd5-e919095cc6de",
        "colab": {
          "base_uri": "https://localhost:8080/",
          "height": 34
        }
      },
      "source": [
        "a[2]"
      ],
      "execution_count": 0,
      "outputs": [
        {
          "output_type": "execute_result",
          "data": {
            "text/plain": [
              "8"
            ]
          },
          "metadata": {
            "tags": []
          },
          "execution_count": 35
        }
      ]
    },
    {
      "cell_type": "code",
      "metadata": {
        "id": "gx4PYJPr5QP-",
        "colab_type": "code",
        "outputId": "befd2d24-3ca0-4816-bafd-8b91f6d4b687",
        "colab": {
          "base_uri": "https://localhost:8080/",
          "height": 34
        }
      },
      "source": [
        "a[2:5]"
      ],
      "execution_count": 0,
      "outputs": [
        {
          "output_type": "execute_result",
          "data": {
            "text/plain": [
              "array([ 8, 27, 64])"
            ]
          },
          "metadata": {
            "tags": []
          },
          "execution_count": 36
        }
      ]
    },
    {
      "cell_type": "code",
      "metadata": {
        "id": "vlF61xzG5SjB",
        "colab_type": "code",
        "outputId": "921d0245-e2dd-42e5-91d4-2bae3d8870f3",
        "colab": {
          "base_uri": "https://localhost:8080/",
          "height": 51
        }
      },
      "source": [
        "# equivalent to a[0:6:2] = -1000; from start to position 6, exclusive, \n",
        "#set every 2nd element to -1000\n",
        "a[:6:2] = -1000  \n",
        "a"
      ],
      "execution_count": 0,
      "outputs": [
        {
          "output_type": "execute_result",
          "data": {
            "text/plain": [
              "array([-1000,     1, -1000,    27, -1000,   125,   216,   343,   512,\n",
              "         729])"
            ]
          },
          "metadata": {
            "tags": []
          },
          "execution_count": 38
        }
      ]
    },
    {
      "cell_type": "code",
      "metadata": {
        "id": "uKSYRdK05Uq5",
        "colab_type": "code",
        "outputId": "45fc0af6-7483-40ee-a41e-d24be71583eb",
        "colab": {
          "base_uri": "https://localhost:8080/",
          "height": 51
        }
      },
      "source": [
        "a[::-1]  "
      ],
      "execution_count": 0,
      "outputs": [
        {
          "output_type": "execute_result",
          "data": {
            "text/plain": [
              "array([  729,   512,   343,   216,   125, -1000,    27, -1000,     1,\n",
              "       -1000])"
            ]
          },
          "metadata": {
            "tags": []
          },
          "execution_count": 40
        }
      ]
    },
    {
      "cell_type": "markdown",
      "metadata": {
        "id": "TMQrTcA96xGs",
        "colab_type": "text"
      },
      "source": [
        "**Multidimensional arrays** can have one index per axis. These indices are given in a tuple separated by commas:"
      ]
    },
    {
      "cell_type": "code",
      "metadata": {
        "id": "kVryeR5X6B_U",
        "colab_type": "code",
        "outputId": "a56e4840-ba48-43d5-d61c-3574e2ec1587",
        "colab": {
          "base_uri": "https://localhost:8080/",
          "height": 102
        }
      },
      "source": [
        "def f(x,y):\n",
        "    return 10*x+y\n",
        "\n",
        "b = np.fromfunction(f,(5,4),dtype=int)\n",
        "print(b)"
      ],
      "execution_count": 0,
      "outputs": [
        {
          "output_type": "stream",
          "text": [
            "[[ 0  1  2  3]\n",
            " [10 11 12 13]\n",
            " [20 21 22 23]\n",
            " [30 31 32 33]\n",
            " [40 41 42 43]]\n"
          ],
          "name": "stdout"
        }
      ]
    },
    {
      "cell_type": "code",
      "metadata": {
        "id": "d1vpTgnD72hk",
        "colab_type": "code",
        "outputId": "33321321-0657-43fa-fd79-976c33909d0f",
        "colab": {
          "base_uri": "https://localhost:8080/",
          "height": 34
        }
      },
      "source": [
        "b[2,3]"
      ],
      "execution_count": 0,
      "outputs": [
        {
          "output_type": "execute_result",
          "data": {
            "text/plain": [
              "23"
            ]
          },
          "metadata": {
            "tags": []
          },
          "execution_count": 44
        }
      ]
    },
    {
      "cell_type": "code",
      "metadata": {
        "id": "XCs_FkFI8JpO",
        "colab_type": "code",
        "outputId": "963b7a86-8d4a-43f6-b17f-814f1bf1ae89",
        "colab": {
          "base_uri": "https://localhost:8080/",
          "height": 34
        }
      },
      "source": [
        "b[0:5, 1]                       # each row in the second column of b"
      ],
      "execution_count": 0,
      "outputs": [
        {
          "output_type": "execute_result",
          "data": {
            "text/plain": [
              "array([ 1, 11, 21, 31, 41])"
            ]
          },
          "metadata": {
            "tags": []
          },
          "execution_count": 45
        }
      ]
    },
    {
      "cell_type": "code",
      "metadata": {
        "id": "3zkQzErQ8Lkl",
        "colab_type": "code",
        "outputId": "82167929-c17a-427f-ca99-d2bbd381a0b8",
        "colab": {
          "base_uri": "https://localhost:8080/",
          "height": 34
        }
      },
      "source": [
        "b[ : ,1]                        # equivalent to the previous example"
      ],
      "execution_count": 0,
      "outputs": [
        {
          "output_type": "execute_result",
          "data": {
            "text/plain": [
              "array([ 1, 11, 21, 31, 41])"
            ]
          },
          "metadata": {
            "tags": []
          },
          "execution_count": 46
        }
      ]
    },
    {
      "cell_type": "code",
      "metadata": {
        "id": "GD8ROt-O8OHX",
        "colab_type": "code",
        "outputId": "d7f8dbf1-62a5-47c7-94d1-3abe7c5506a0",
        "colab": {
          "base_uri": "https://localhost:8080/",
          "height": 51
        }
      },
      "source": [
        "b[1:3, : ]                      # each column in the second and third row of b"
      ],
      "execution_count": 0,
      "outputs": [
        {
          "output_type": "execute_result",
          "data": {
            "text/plain": [
              "array([[10, 11, 12, 13],\n",
              "       [20, 21, 22, 23]])"
            ]
          },
          "metadata": {
            "tags": []
          },
          "execution_count": 47
        }
      ]
    },
    {
      "cell_type": "markdown",
      "metadata": {
        "id": "56Nn36Jl_Hsk",
        "colab_type": "text"
      },
      "source": [
        "**Iterating** over multidimensional arrays is done with respect to the first axis:"
      ]
    },
    {
      "cell_type": "code",
      "metadata": {
        "id": "3JO_iB7j9c4s",
        "colab_type": "code",
        "outputId": "c58706d2-8b6b-4b19-c8ec-3770a0a854e9",
        "colab": {
          "base_uri": "https://localhost:8080/",
          "height": 102
        }
      },
      "source": [
        "for row in b:\n",
        "    print(row)"
      ],
      "execution_count": 0,
      "outputs": [
        {
          "output_type": "stream",
          "text": [
            "[0 1 2 3]\n",
            "[10 11 12 13]\n",
            "[20 21 22 23]\n",
            "[30 31 32 33]\n",
            "[40 41 42 43]\n"
          ],
          "name": "stdout"
        }
      ]
    },
    {
      "cell_type": "markdown",
      "metadata": {
        "id": "fjr9cu4Q_Oac",
        "colab_type": "text"
      },
      "source": [
        "However, if one wants to perform an operation on each element in the array, one can use the flat attribute which is an iterator over all the elements of the array:"
      ]
    },
    {
      "cell_type": "code",
      "metadata": {
        "id": "Vywnw4Lu_LR_",
        "colab_type": "code",
        "outputId": "5ae2ff84-6b3d-4f60-bfd4-42b23aea21e8",
        "colab": {
          "base_uri": "https://localhost:8080/",
          "height": 357
        }
      },
      "source": [
        "for element in b.flat:\n",
        "    print(element)"
      ],
      "execution_count": 0,
      "outputs": [
        {
          "output_type": "stream",
          "text": [
            "0\n",
            "1\n",
            "2\n",
            "3\n",
            "10\n",
            "11\n",
            "12\n",
            "13\n",
            "20\n",
            "21\n",
            "22\n",
            "23\n",
            "30\n",
            "31\n",
            "32\n",
            "33\n",
            "40\n",
            "41\n",
            "42\n",
            "43\n"
          ],
          "name": "stdout"
        }
      ]
    },
    {
      "cell_type": "markdown",
      "metadata": {
        "id": "Kcvm9UZx_dZQ",
        "colab_type": "text"
      },
      "source": [
        "#Shape Manipulation"
      ]
    },
    {
      "cell_type": "markdown",
      "metadata": {
        "id": "AGIT56Wc_mAZ",
        "colab_type": "text"
      },
      "source": [
        "An array has a shape given by the number of elements along each axis:\n"
      ]
    },
    {
      "cell_type": "code",
      "metadata": {
        "id": "DdryQah__Zoz",
        "colab_type": "code",
        "outputId": "5ac7d686-7dc5-4326-88ae-3fc57c30f7b8",
        "colab": {
          "base_uri": "https://localhost:8080/",
          "height": 68
        }
      },
      "source": [
        "a = np.arange(12).reshape(3,4)\n",
        "a"
      ],
      "execution_count": 0,
      "outputs": [
        {
          "output_type": "execute_result",
          "data": {
            "text/plain": [
              "array([[ 0,  1,  2,  3],\n",
              "       [ 4,  5,  6,  7],\n",
              "       [ 8,  9, 10, 11]])"
            ]
          },
          "metadata": {
            "tags": []
          },
          "execution_count": 54
        }
      ]
    },
    {
      "cell_type": "code",
      "metadata": {
        "id": "BdINT4vE_Roc",
        "colab_type": "code",
        "outputId": "c235a08d-7c20-42b6-a62d-1fdf91d77c4a",
        "colab": {
          "base_uri": "https://localhost:8080/",
          "height": 34
        }
      },
      "source": [
        "a.shape"
      ],
      "execution_count": 0,
      "outputs": [
        {
          "output_type": "execute_result",
          "data": {
            "text/plain": [
              "(3, 4)"
            ]
          },
          "metadata": {
            "tags": []
          },
          "execution_count": 55
        }
      ]
    },
    {
      "cell_type": "markdown",
      "metadata": {
        "id": "NCcBq6eJCHSn",
        "colab_type": "text"
      },
      "source": [
        "The shape of an array can be changed with various commands. Note that the following three commands all return a modified array, but do not change the original array:"
      ]
    },
    {
      "cell_type": "code",
      "metadata": {
        "id": "WT7-usLvADmF",
        "colab_type": "code",
        "outputId": "85781955-458d-4217-fc26-2b553d742852",
        "colab": {
          "base_uri": "https://localhost:8080/",
          "height": 34
        }
      },
      "source": [
        "a.ravel()  # returns the array, flattened"
      ],
      "execution_count": 0,
      "outputs": [
        {
          "output_type": "execute_result",
          "data": {
            "text/plain": [
              "array([ 0,  1,  2,  3,  4,  5,  6,  7,  8,  9, 10, 11])"
            ]
          },
          "metadata": {
            "tags": []
          },
          "execution_count": 56
        }
      ]
    },
    {
      "cell_type": "code",
      "metadata": {
        "id": "7-0rcuDVCNEm",
        "colab_type": "code",
        "outputId": "bbb42039-e5a5-487b-ed82-cb667a858ac1",
        "colab": {
          "base_uri": "https://localhost:8080/",
          "height": 119
        }
      },
      "source": [
        "a.reshape(6,2)  # returns the array with a modified shape"
      ],
      "execution_count": 0,
      "outputs": [
        {
          "output_type": "execute_result",
          "data": {
            "text/plain": [
              "array([[ 0,  1],\n",
              "       [ 2,  3],\n",
              "       [ 4,  5],\n",
              "       [ 6,  7],\n",
              "       [ 8,  9],\n",
              "       [10, 11]])"
            ]
          },
          "metadata": {
            "tags": []
          },
          "execution_count": 57
        }
      ]
    },
    {
      "cell_type": "code",
      "metadata": {
        "id": "v31Ht46JCQKD",
        "colab_type": "code",
        "outputId": "940e859b-92b2-46ab-df1d-44b44d7e22d4",
        "colab": {
          "base_uri": "https://localhost:8080/",
          "height": 68
        }
      },
      "source": [
        "a"
      ],
      "execution_count": 0,
      "outputs": [
        {
          "output_type": "execute_result",
          "data": {
            "text/plain": [
              "array([[ 0,  1,  2,  3],\n",
              "       [ 4,  5,  6,  7],\n",
              "       [ 8,  9, 10, 11]])"
            ]
          },
          "metadata": {
            "tags": []
          },
          "execution_count": 58
        }
      ]
    },
    {
      "cell_type": "code",
      "metadata": {
        "id": "Gmh-5G4PCRbT",
        "colab_type": "code",
        "outputId": "40490b32-7606-4797-de66-0930f094262d",
        "colab": {
          "base_uri": "https://localhost:8080/",
          "height": 85
        }
      },
      "source": [
        "a.T  # returns the array, transposed"
      ],
      "execution_count": 0,
      "outputs": [
        {
          "output_type": "execute_result",
          "data": {
            "text/plain": [
              "array([[ 0,  4,  8],\n",
              "       [ 1,  5,  9],\n",
              "       [ 2,  6, 10],\n",
              "       [ 3,  7, 11]])"
            ]
          },
          "metadata": {
            "tags": []
          },
          "execution_count": 59
        }
      ]
    },
    {
      "cell_type": "code",
      "metadata": {
        "id": "W4sutXe9CVAE",
        "colab_type": "code",
        "outputId": "c72e7e26-5716-4db8-de21-d59f4235ae72",
        "colab": {
          "base_uri": "https://localhost:8080/",
          "height": 34
        }
      },
      "source": [
        "a.T.shape,a.shape"
      ],
      "execution_count": 0,
      "outputs": [
        {
          "output_type": "execute_result",
          "data": {
            "text/plain": [
              "((4, 3), (3, 4))"
            ]
          },
          "metadata": {
            "tags": []
          },
          "execution_count": 60
        }
      ]
    },
    {
      "cell_type": "markdown",
      "metadata": {
        "id": "SBYVpGlpChHd",
        "colab_type": "text"
      },
      "source": [
        "The **reshape** function returns its argument with a modified shape, whereas the **ndarray.resize** method modifies the array itself:"
      ]
    },
    {
      "cell_type": "code",
      "metadata": {
        "id": "4q1ipQEACXnz",
        "colab_type": "code",
        "outputId": "6d490e94-2053-4286-c9dd-a855d561c062",
        "colab": {
          "base_uri": "https://localhost:8080/",
          "height": 51
        }
      },
      "source": [
        "a.resize((2,6))\n",
        "a"
      ],
      "execution_count": 0,
      "outputs": [
        {
          "output_type": "execute_result",
          "data": {
            "text/plain": [
              "array([[ 0,  1,  2,  3,  4,  5],\n",
              "       [ 6,  7,  8,  9, 10, 11]])"
            ]
          },
          "metadata": {
            "tags": []
          },
          "execution_count": 61
        }
      ]
    },
    {
      "cell_type": "markdown",
      "metadata": {
        "id": "KYIZCMrjEmer",
        "colab_type": "text"
      },
      "source": [
        "#Stacking Arrays"
      ]
    },
    {
      "cell_type": "code",
      "metadata": {
        "id": "jox4fJCGClcD",
        "colab_type": "code",
        "outputId": "d32c8a4f-9a07-41cd-e941-de7bba5f5c91",
        "colab": {
          "base_uri": "https://localhost:8080/",
          "height": 85
        }
      },
      "source": [
        "a = np.arange(1,5,1).reshape(2,2)\n",
        "b = np.arange(5,9,1).reshape(2,2)\n",
        "print(b)\n",
        "print(a)"
      ],
      "execution_count": 0,
      "outputs": [
        {
          "output_type": "stream",
          "text": [
            "[[5 6]\n",
            " [7 8]]\n",
            "[[1 2]\n",
            " [3 4]]\n"
          ],
          "name": "stdout"
        }
      ]
    },
    {
      "cell_type": "code",
      "metadata": {
        "id": "9IV3SuxcE0D4",
        "colab_type": "code",
        "outputId": "7c0e528e-444b-4e7c-baeb-5912c90f160a",
        "colab": {
          "base_uri": "https://localhost:8080/",
          "height": 85
        }
      },
      "source": [
        "np.vstack((a,b))"
      ],
      "execution_count": 0,
      "outputs": [
        {
          "output_type": "execute_result",
          "data": {
            "text/plain": [
              "array([[1, 2],\n",
              "       [3, 4],\n",
              "       [5, 6],\n",
              "       [7, 8]])"
            ]
          },
          "metadata": {
            "tags": []
          },
          "execution_count": 72
        }
      ]
    },
    {
      "cell_type": "code",
      "metadata": {
        "id": "TI_sloYpFGZ8",
        "colab_type": "code",
        "outputId": "c5463f99-d8d2-4cc3-a135-76f08874d441",
        "colab": {
          "base_uri": "https://localhost:8080/",
          "height": 51
        }
      },
      "source": [
        "np.hstack((a,b))"
      ],
      "execution_count": 0,
      "outputs": [
        {
          "output_type": "execute_result",
          "data": {
            "text/plain": [
              "array([[1, 2, 5, 6],\n",
              "       [3, 4, 7, 8]])"
            ]
          },
          "metadata": {
            "tags": []
          },
          "execution_count": 73
        }
      ]
    },
    {
      "cell_type": "markdown",
      "metadata": {
        "id": "eRxKK_ptHLdX",
        "colab_type": "text"
      },
      "source": [
        "#Copies and View"
      ]
    },
    {
      "cell_type": "markdown",
      "metadata": {
        "id": "k1DzopFlHPFL",
        "colab_type": "text"
      },
      "source": [
        "Simple assignments make no copy of array objects or of their data."
      ]
    },
    {
      "cell_type": "code",
      "metadata": {
        "id": "ym2SBkFTFINb",
        "colab_type": "code",
        "outputId": "17f05744-ed2b-4ecf-c640-a42d68e6caf8",
        "colab": {
          "base_uri": "https://localhost:8080/",
          "height": 51
        }
      },
      "source": [
        "a = np.arange(12)\n",
        "b = a            # no new object is created\n",
        "print(b is a)           # a and b are two names for the same ndarray object\n",
        "\n",
        "b.shape = 3,4    # changes the shape of a\n",
        "print(a.shape)"
      ],
      "execution_count": 0,
      "outputs": [
        {
          "output_type": "stream",
          "text": [
            "True\n",
            "(3, 4)\n"
          ],
          "name": "stdout"
        }
      ]
    },
    {
      "cell_type": "markdown",
      "metadata": {
        "id": "y8WhU1zdIXcp",
        "colab_type": "text"
      },
      "source": [
        "Different array objects can share the same data. The view method creates a new array object that looks at the same data. (Shallow copy)"
      ]
    },
    {
      "cell_type": "code",
      "metadata": {
        "id": "Ees0OgOPHZ_x",
        "colab_type": "code",
        "outputId": "9a69cee8-126e-44d5-ef25-ad4c1de9ec8e",
        "colab": {
          "base_uri": "https://localhost:8080/",
          "height": 153
        }
      },
      "source": [
        "import numpy as np\n",
        "a = np.arange(12)\n",
        "print(\"This is a \",a)\n",
        "c = a.view()\n",
        "print(\"This is c \",c)\n",
        "print(\"Is c is a \",c is a)\n",
        "\n",
        "print(c.base is a)                        # c is a view of the data owned by a)\n",
        "\n",
        "c.shape = 2,6                      # a's shape doesn't change\n",
        "print(\"shape of a and shape of c\" ,a.shape,c.shape)\n",
        "\n",
        "c[0,4] = 1234                      # a's data changes\n",
        "print(\"This is new a \" , a)\n",
        "print(\"This is new c \",c)"
      ],
      "execution_count": 0,
      "outputs": [
        {
          "output_type": "stream",
          "text": [
            "This is a  [ 0  1  2  3  4  5  6  7  8  9 10 11]\n",
            "This is c  [ 0  1  2  3  4  5  6  7  8  9 10 11]\n",
            "Is c is a  False\n",
            "True\n",
            "shape of a and shape of c (12,) (2, 6)\n",
            "This is new a  [   0    1    2    3 1234    5    6    7    8    9   10   11]\n",
            "This is new c  [[   0    1    2    3 1234    5]\n",
            " [   6    7    8    9   10   11]]\n"
          ],
          "name": "stdout"
        }
      ]
    },
    {
      "cell_type": "markdown",
      "metadata": {
        "id": "tJ4L_wc_JVA6",
        "colab_type": "text"
      },
      "source": [
        "Slicing an array returns a view of it:"
      ]
    },
    {
      "cell_type": "code",
      "metadata": {
        "id": "BzFZeSllJBEE",
        "colab_type": "code",
        "colab": {}
      },
      "source": [
        "s = a[ : , 1:3]     # spaces added for clarity; could also be written \"s = a[:,1:3]\"\n",
        "s[:] = 10           # s[:] is a view of s. Note the difference between s=10 and s[:]=10\n",
        "a"
      ],
      "execution_count": 0,
      "outputs": []
    },
    {
      "cell_type": "markdown",
      "metadata": {
        "id": "e2MLBZKyJaZw",
        "colab_type": "text"
      },
      "source": [
        "The copy method makes a complete copy of the array and its data.(Deep copy)"
      ]
    },
    {
      "cell_type": "markdown",
      "metadata": {
        "id": "jF0iYZ7-M80t",
        "colab_type": "text"
      },
      "source": [
        "![alt text]![image.png](data:image/png;base64,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)"
      ]
    },
    {
      "cell_type": "code",
      "metadata": {
        "id": "8RQyCe_JJle6",
        "colab_type": "code",
        "outputId": "9359c33b-8d54-4238-f40b-89dfa5d94599",
        "colab": {
          "base_uri": "https://localhost:8080/",
          "height": 102
        }
      },
      "source": [
        "d = a.copy()                          # a new array object with new data is created\n",
        "print(d is a)\n",
        "\n",
        "print(d.base is a)                          # d doesn't share anything with a)\n",
        "\n",
        "d[0,0] = 9999\n",
        "a"
      ],
      "execution_count": 0,
      "outputs": [
        {
          "output_type": "stream",
          "text": [
            "False\n",
            "False\n"
          ],
          "name": "stdout"
        },
        {
          "output_type": "execute_result",
          "data": {
            "text/plain": [
              "array([[   0,    1,    2,    3],\n",
              "       [1234,    5,    6,    7],\n",
              "       [   8,    9,   10,   11]])"
            ]
          },
          "metadata": {
            "tags": []
          },
          "execution_count": 81
        }
      ]
    },
    {
      "cell_type": "markdown",
      "metadata": {
        "id": "ZD7jUsVry9py",
        "colab_type": "text"
      },
      "source": [
        "#Fancy indexing and index tricks"
      ]
    },
    {
      "cell_type": "markdown",
      "metadata": {
        "id": "xMdnvjC31-i9",
        "colab_type": "text"
      },
      "source": [
        "###Indexing with Arrays of Indices"
      ]
    },
    {
      "cell_type": "code",
      "metadata": {
        "id": "9QoVBFr1Ju3w",
        "colab_type": "code",
        "outputId": "f508c24e-ee6d-43e5-c32b-6a00688dcdb7",
        "colab": {
          "base_uri": "https://localhost:8080/",
          "height": 34
        }
      },
      "source": [
        "a = np.arange(12)**2                       # the first 12 square numbers\n",
        "i = np.array( [ 1,1,3,8,5 ] )              # an array of indices\n",
        "a[i]                                       # the elements of a at the positions i"
      ],
      "execution_count": 0,
      "outputs": [
        {
          "output_type": "execute_result",
          "data": {
            "text/plain": [
              "array([ 1,  1,  9, 64, 25])"
            ]
          },
          "metadata": {
            "tags": []
          },
          "execution_count": 3
        }
      ]
    },
    {
      "cell_type": "code",
      "metadata": {
        "id": "tpiP7ikS2HRg",
        "colab_type": "code",
        "outputId": "6753a3ec-56ca-4319-e30a-4e9e64840b23",
        "colab": {
          "base_uri": "https://localhost:8080/",
          "height": 51
        }
      },
      "source": [
        "j = np.array( [ [ 3, 4], [ 9, 7 ] ] )      # a bidimensional array of indices\n",
        "a[j]                                       # the same shape as j"
      ],
      "execution_count": 0,
      "outputs": [
        {
          "output_type": "execute_result",
          "data": {
            "text/plain": [
              "array([[ 9, 16],\n",
              "       [81, 49]])"
            ]
          },
          "metadata": {
            "tags": []
          },
          "execution_count": 4
        }
      ]
    },
    {
      "cell_type": "code",
      "metadata": {
        "id": "rSghkkpU2PsY",
        "colab_type": "code",
        "colab": {}
      },
      "source": [
        "palette = np.array( [ [0,0,0],                # black\n",
        "                      [255,0,0],              # red\n",
        "                      [0,255,0],              # green\n",
        "                      [0,0,255],              # blue\n",
        "                      [255,255,255] ] )       # white\n",
        "image = np.array( [ [ 0, 1, 2, 0 ],           # each value corresponds to a color in the palette\n",
        "                    [ 0, 3, 4, 0 ]  ] )\n",
        "palette[image]                            # the (2,4,3) color image"
      ],
      "execution_count": 0,
      "outputs": []
    },
    {
      "cell_type": "code",
      "metadata": {
        "id": "DYGrHIAo3WoF",
        "colab_type": "code",
        "outputId": "cc7b4e5c-a1d7-4221-c840-6ffad4931e7a",
        "colab": {
          "base_uri": "https://localhost:8080/",
          "height": 136
        }
      },
      "source": [
        "a = np.arange(12).reshape(3,4)\n",
        "\n",
        "i = np.array( [ [0,1],                        # indices for the first dim of a\n",
        "                [1,2] ] )\n",
        "j = np.array( [ [2,1],                        # indices for the second dim\n",
        "                [3,3] ] )\n",
        "\n",
        "# i and j must have equal shape\n",
        "print(\"this is a\" , a)\n",
        "print(\"this is i and j\", a[i,j])\n",
        "print(\"this is i adn 2\" ,a[i,2])"
      ],
      "execution_count": 0,
      "outputs": [
        {
          "output_type": "stream",
          "text": [
            "this is a [[ 0  1  2  3]\n",
            " [ 4  5  6  7]\n",
            " [ 8  9 10 11]]\n",
            "this is i and j [[ 2  5]\n",
            " [ 7 11]]\n",
            "this is i adn 2 [[ 2  6]\n",
            " [ 6 10]]\n"
          ],
          "name": "stdout"
        }
      ]
    },
    {
      "cell_type": "code",
      "metadata": {
        "id": "Hj2-KraH4xDG",
        "colab_type": "code",
        "colab": {}
      },
      "source": [
        "a = np.arange(5)\n",
        "a[[0,0,2]]=[1,2,3]\n",
        "a"
      ],
      "execution_count": 0,
      "outputs": []
    },
    {
      "cell_type": "code",
      "metadata": {
        "id": "d_X3ndqm8ps0",
        "colab_type": "code",
        "colab": {}
      },
      "source": [
        "a = np.arange(5)\n",
        "a\n",
        "\n",
        "a[[1,3,4]] = 0\n",
        "a"
      ],
      "execution_count": 0,
      "outputs": []
    },
    {
      "cell_type": "code",
      "metadata": {
        "id": "9MbT5qH09OCi",
        "colab_type": "code",
        "outputId": "18253fe0-9c54-4872-cf67-5a4dc9d0cc7b",
        "colab": {
          "base_uri": "https://localhost:8080/",
          "height": 34
        }
      },
      "source": [
        "a = np.arange(5)\n",
        "a[[0,0,2]]+=1\n",
        "a"
      ],
      "execution_count": 0,
      "outputs": [
        {
          "output_type": "execute_result",
          "data": {
            "text/plain": [
              "array([1, 1, 3, 3, 4])"
            ]
          },
          "metadata": {
            "tags": []
          },
          "execution_count": 7
        }
      ]
    },
    {
      "cell_type": "markdown",
      "metadata": {
        "id": "HrP3xI1W_v4T",
        "colab_type": "text"
      },
      "source": [
        "###Indexing with Boolean Arrays"
      ]
    },
    {
      "cell_type": "code",
      "metadata": {
        "id": "Hdx9jEeJ9O1x",
        "colab_type": "code",
        "outputId": "1dbfb702-fc7d-4f2b-a5f2-fb17b11e1aaf",
        "colab": {
          "base_uri": "https://localhost:8080/",
          "height": 68
        }
      },
      "source": [
        "a = np.arange(12).reshape(3,4)\n",
        "b = a > 4\n",
        "b                                          # b is a boolean with a's shape"
      ],
      "execution_count": 0,
      "outputs": [
        {
          "output_type": "execute_result",
          "data": {
            "text/plain": [
              "array([[False, False, False, False],\n",
              "       [False,  True,  True,  True],\n",
              "       [ True,  True,  True,  True]])"
            ]
          },
          "metadata": {
            "tags": []
          },
          "execution_count": 8
        }
      ]
    },
    {
      "cell_type": "code",
      "metadata": {
        "id": "p9yibNfDAtDj",
        "colab_type": "code",
        "outputId": "39fc7ed1-a656-4986-a5be-a83ac694a531",
        "colab": {
          "base_uri": "https://localhost:8080/",
          "height": 34
        }
      },
      "source": [
        "a[b] "
      ],
      "execution_count": 0,
      "outputs": [
        {
          "output_type": "execute_result",
          "data": {
            "text/plain": [
              "array([ 5,  6,  7,  8,  9, 10, 11])"
            ]
          },
          "metadata": {
            "tags": []
          },
          "execution_count": 9
        }
      ]
    },
    {
      "cell_type": "code",
      "metadata": {
        "id": "AmLYMwSqAvrE",
        "colab_type": "code",
        "colab": {}
      },
      "source": [
        "a[b] = 0                                   # All elements of 'a' higher than 4 become 0"
      ],
      "execution_count": 0,
      "outputs": []
    },
    {
      "cell_type": "code",
      "metadata": {
        "id": "NSoMGyXMA0PD",
        "colab_type": "code",
        "outputId": "6dcfc983-471c-49bb-d8ad-b3bf7f27324a",
        "colab": {
          "base_uri": "https://localhost:8080/",
          "height": 68
        }
      },
      "source": [
        "a"
      ],
      "execution_count": 0,
      "outputs": [
        {
          "output_type": "execute_result",
          "data": {
            "text/plain": [
              "array([[0, 1, 2, 3],\n",
              "       [4, 0, 0, 0],\n",
              "       [0, 0, 0, 0]])"
            ]
          },
          "metadata": {
            "tags": []
          },
          "execution_count": 11
        }
      ]
    },
    {
      "cell_type": "markdown",
      "metadata": {
        "id": "UwC-yb4WFXyP",
        "colab_type": "text"
      },
      "source": [
        "#Broadcasting"
      ]
    },
    {
      "cell_type": "markdown",
      "metadata": {
        "id": "oeZCgtfyFgts",
        "colab_type": "text"
      },
      "source": [
        "\n",
        "\n",
        "\n",
        "*   The term broadcasting describes how numpy treats arrays with different shapes during arithmetic operations. \n",
        "*   Subject to certain constraints, the smaller array is “broadcast” across the larger array so that they have compatible shapes. \n",
        "*  Broadcasting provides a means of vectorizing array operations so that looping occurs in C instead of Python. It does this without making needless copies of data and usually leads to efficient algorithm implementations. \n",
        "\n",
        "numpy operations are usually done element-by-element which requires two arrays to have exactly the same shape:\n",
        "\n",
        "\n",
        "\n"
      ]
    },
    {
      "cell_type": "code",
      "metadata": {
        "id": "pJNwf_qJA1Dj",
        "colab_type": "code",
        "colab": {}
      },
      "source": [
        "from numpy import array\n",
        "a = array([1.0, 2.0, 3.0])\n",
        "b = array([2.0, 2.0, 2.0])\n",
        "a * b"
      ],
      "execution_count": 0,
      "outputs": []
    },
    {
      "cell_type": "markdown",
      "metadata": {
        "id": "csIjqfcVKu8r",
        "colab_type": "text"
      },
      "source": [
        "numpy’s broadcasting rule relaxes this constraint when the arrays’ shapes meet certain constraints. The simplest broadcasting example occurs when an array and a scalar value are combined in an operation:"
      ]
    },
    {
      "cell_type": "code",
      "metadata": {
        "id": "YAA0DakOKsOn",
        "colab_type": "code",
        "colab": {}
      },
      "source": [
        "from numpy import array\n",
        "a = array([1.0,2.0,3.0])\n",
        "b = 2.0\n",
        "a * b"
      ],
      "execution_count": 0,
      "outputs": []
    },
    {
      "cell_type": "markdown",
      "metadata": {
        "id": "8yIkM0LlK4yu",
        "colab_type": "text"
      },
      "source": [
        "![alt text](data:image/png;base64,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)"
      ]
    },
    {
      "cell_type": "markdown",
      "metadata": {
        "id": "fC0Nd5BRNJBH",
        "colab_type": "text"
      },
      "source": [
        " **The Broadcasting Rule:**\n",
        "\n",
        "**In order to broadcast, the size of the trailing axes for both arrays in an operation must either be the same size or one of them must be one.**"
      ]
    },
    {
      "cell_type": "markdown",
      "metadata": {
        "id": "YIkoVpMINW-d",
        "colab_type": "text"
      },
      "source": [
        "If this condition is not met, a ValueError('frames are not aligned') exception is thrown\n",
        "\n",
        "The size of the result array created by broadcast operations is the maximum size along each dimension from the input arrays."
      ]
    },
    {
      "cell_type": "code",
      "metadata": {
        "id": "PD7soEtdLAPm",
        "colab_type": "code",
        "outputId": "8f8b3dbd-e3de-41f9-a646-dc1d1fdad561",
        "colab": {
          "base_uri": "https://localhost:8080/",
          "height": 85
        }
      },
      "source": [
        "from numpy import array\n",
        "a = array([[ 0.0,  0.0,  0.0],\n",
        "           [10.0, 10.0, 10.0],\n",
        "           [20.0, 20.0, 20.0],\n",
        "           [30.0, 30.0, 30.0]])\n",
        "b = array([0.0, 1.0, 2.0])\n",
        "a + b"
      ],
      "execution_count": 0,
      "outputs": [
        {
          "output_type": "execute_result",
          "data": {
            "text/plain": [
              "array([[ 0.,  1.,  2.],\n",
              "       [10., 11., 12.],\n",
              "       [20., 21., 22.],\n",
              "       [30., 31., 32.]])"
            ]
          },
          "metadata": {
            "tags": []
          },
          "execution_count": 13
        }
      ]
    },
    {
      "cell_type": "markdown",
      "metadata": {
        "id": "XwPZnyolNuIy",
        "colab_type": "text"
      },
      "source": [
        "![alt text]![image.png](data:image/png;base64,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)"
      ]
    },
    {
      "cell_type": "markdown",
      "metadata": {
        "id": "Kdmm3kx8N6Hj",
        "colab_type": "text"
      },
      "source": [
        "![alt text]![image.png](data:image/png;base64,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)"
      ]
    },
    {
      "cell_type": "code",
      "metadata": {
        "id": "3GDKZ6a6NnKk",
        "colab_type": "code",
        "outputId": "629d83f7-3829-4506-c93f-336e1b782152",
        "colab": {
          "base_uri": "https://localhost:8080/",
          "height": 85
        }
      },
      "source": [
        "from numpy import array, newaxis\n",
        "a = array([0.0, 10.0, 20.0, 30.0])\n",
        "b = array([1.0, 2.0, 3.0])\n",
        "a[:,newaxis] + b"
      ],
      "execution_count": 0,
      "outputs": [
        {
          "output_type": "execute_result",
          "data": {
            "text/plain": [
              "array([[ 1.,  2.,  3.],\n",
              "       [11., 12., 13.],\n",
              "       [21., 22., 23.],\n",
              "       [31., 32., 33.]])"
            ]
          },
          "metadata": {
            "tags": []
          },
          "execution_count": 14
        }
      ]
    },
    {
      "cell_type": "markdown",
      "metadata": {
        "id": "_ZseYrJjONiY",
        "colab_type": "text"
      },
      "source": [
        "![alt text]![image.png](data:image/png;base64,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)"
      ]
    },
    {
      "cell_type": "code",
      "metadata": {
        "id": "c0VFDCeROM2r",
        "colab_type": "code",
        "colab": {}
      },
      "source": [
        ""
      ],
      "execution_count": 0,
      "outputs": []
    }
  ]
}