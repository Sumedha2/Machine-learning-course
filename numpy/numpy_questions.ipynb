{
  "nbformat": 4,
  "nbformat_minor": 0,
  "metadata": {
    "colab": {
      "name": "numpy questions.ipynb",
      "provenance": [],
      "collapsed_sections": []
    },
    "kernelspec": {
      "name": "python3",
      "display_name": "Python 3"
    }
  },
  "cells": [
    {
      "cell_type": "markdown",
      "metadata": {
        "id": "RfR3jhxHRYe7",
        "colab_type": "text"
      },
      "source": [
        "**1. Import numpy as np and see the version**"
      ]
    },
    {
      "cell_type": "code",
      "metadata": {
        "id": "Gn5tG_pxRhyQ",
        "colab_type": "code",
        "colab": {}
      },
      "source": [
        "import numpy as np\n",
        "print(np.__version__)"
      ],
      "execution_count": 0,
      "outputs": []
    },
    {
      "cell_type": "markdown",
      "metadata": {
        "id": "cLFhV6E4Rifv",
        "colab_type": "text"
      },
      "source": [
        "**2. How to create a 1D array?**\n",
        "\n",
        "Desired Output : - array([0, 1, 2, 3, 4, 5, 6, 7, 8, 9])"
      ]
    },
    {
      "cell_type": "code",
      "metadata": {
        "id": "XbLT6GH1RdRg",
        "colab_type": "code",
        "colab": {}
      },
      "source": [
        "arr = np.arange(10)\n",
        "arr"
      ],
      "execution_count": 0,
      "outputs": []
    },
    {
      "cell_type": "markdown",
      "metadata": {
        "id": "TcNxqiw5RtLB",
        "colab_type": "text"
      },
      "source": [
        "**3. Create a 3×3 numpy array of all True’s**"
      ]
    },
    {
      "cell_type": "code",
      "metadata": {
        "id": "TH_Y4lKKS2QL",
        "colab_type": "code",
        "outputId": "e2860021-5aa1-440b-a525-2b863b17b7f4",
        "colab": {
          "base_uri": "https://localhost:8080/",
          "height": 68
        }
      },
      "source": [
        "np.full((3, 3), True, dtype=bool)"
      ],
      "execution_count": 0,
      "outputs": [
        {
          "output_type": "execute_result",
          "data": {
            "text/plain": [
              "array([[ True,  True,  True],\n",
              "       [ True,  True,  True],\n",
              "       [ True,  True,  True]])"
            ]
          },
          "metadata": {
            "tags": []
          },
          "execution_count": 2
        }
      ]
    },
    {
      "cell_type": "markdown",
      "metadata": {
        "id": "S9rs_QzMS27g",
        "colab_type": "text"
      },
      "source": [
        "**4. Extract all odd numbers from array**\n",
        "\n",
        "arr = np.array([0, 1, 2, 3, 4, 5, 6, 7, 8, 9])"
      ]
    },
    {
      "cell_type": "code",
      "metadata": {
        "id": "aISpPhuITOOF",
        "colab_type": "code",
        "colab": {}
      },
      "source": [
        "arr = np.array([0, 1, 2, 3, 4, 5, 6, 7, 8, 9])\n",
        "\n",
        "# Solution\n",
        "arr[arr % 2 == 1]"
      ],
      "execution_count": 0,
      "outputs": []
    },
    {
      "cell_type": "markdown",
      "metadata": {
        "id": "EvHOiCOjTZ_H",
        "colab_type": "text"
      },
      "source": [
        "**5. Replace all odd numbers in arr with -1**\n",
        "\n",
        "arr = np.array([0, 1, 2, 3, 4, 5, 6, 7, 8, 9])"
      ]
    },
    {
      "cell_type": "code",
      "metadata": {
        "id": "8Ws8TDeUTicR",
        "colab_type": "code",
        "colab": {}
      },
      "source": [
        "arr = np.array([0, 1, 2, 3, 4, 5, 6, 7, 8, 9])\n",
        "arr[arr % 2 == 1] = -1\n",
        "arr"
      ],
      "execution_count": 0,
      "outputs": []
    },
    {
      "cell_type": "markdown",
      "metadata": {
        "id": "t86ntxYWTnjv",
        "colab_type": "text"
      },
      "source": [
        "**6. Replace all odd numbers in arr with -1 without changing arr**\n",
        "\n",
        "Input : arr = np.array([0, 1, 2, 3, 4, 5, 6, 7, 8, 9])\n",
        "\n",
        "\n",
        "Output : array([ 0, -1,  2, -1,  4, -1,  6, -1,  8, -1])"
      ]
    },
    {
      "cell_type": "code",
      "metadata": {
        "id": "B6hEEtcjX3CM",
        "colab_type": "code",
        "colab": {}
      },
      "source": [
        "arr = np.arange(10)\n",
        "out = np.where(arr % 2 == 1, -1, arr)\n",
        "print(arr)\n",
        "out"
      ],
      "execution_count": 0,
      "outputs": []
    },
    {
      "cell_type": "markdown",
      "metadata": {
        "id": "yK3b4pcFYKDX",
        "colab_type": "text"
      },
      "source": [
        "**7. Convert a 1D array to a 2D array with 2 rows**\n",
        "\n",
        "Input : np.arange(10)\n",
        "\n",
        "Output : array([[0, 1, 2, 3, 4],\n",
        "                [5, 6, 7, 8, 9]])"
      ]
    },
    {
      "cell_type": "code",
      "metadata": {
        "id": "QkYxoQxZYWiM",
        "colab_type": "code",
        "colab": {}
      },
      "source": [
        "arr = np.arange(10)\n",
        "arr.reshape(2, -1) "
      ],
      "execution_count": 0,
      "outputs": []
    },
    {
      "cell_type": "markdown",
      "metadata": {
        "id": "RjyV6ToWY4hO",
        "colab_type": "text"
      },
      "source": [
        "**8. Stack arrays a and b vertically**\n",
        "\n",
        "Input\n",
        "\n",
        "a = np.arange(10).reshape(2,-1)\n",
        "b = np.repeat(1, 10).reshape(2,-1)\n",
        "\n",
        "Desired Output:\n",
        "\n",
        " array([[0, 1, 2, 3, 4],\n",
        "       [5, 6, 7, 8, 9],\n",
        "       [1, 1, 1, 1, 1],\n",
        "       [1, 1, 1, 1, 1]])"
      ]
    },
    {
      "cell_type": "code",
      "metadata": {
        "id": "YJa8i_pvZGSf",
        "colab_type": "code",
        "colab": {}
      },
      "source": [
        "a = np.arange(10).reshape(2,-1)\n",
        "b = np.repeat(1, 10).reshape(2,-1)\n",
        "\n",
        "# Answers\n",
        "# Method 1:\n",
        "np.concatenate([a, b], axis=0)\n",
        "\n",
        "# Method 2:\n",
        "np.vstack([a, b])\n",
        "\n",
        "# Method 3:\n",
        "np.r_[a, b]"
      ],
      "execution_count": 0,
      "outputs": []
    },
    {
      "cell_type": "markdown",
      "metadata": {
        "id": "v3eMB0wEZPM4",
        "colab_type": "text"
      },
      "source": [
        "**9. Stack the arrays a and b horizontally.**\n",
        "\n",
        "Input\n",
        "\n",
        "a = np.arange(10).reshape(2,-1)\n",
        "\n",
        "b = np.repeat(1, 10).reshape(2,-1)\n",
        "\n",
        "Desired Output:\n",
        "\n",
        "array([[0, 1, 2, 3, 4, 1, 1, 1, 1, 1],\n",
        "       [5, 6, 7, 8, 9, 1, 1, 1, 1, 1]])"
      ]
    },
    {
      "cell_type": "code",
      "metadata": {
        "id": "fxTrehc9Zeqf",
        "colab_type": "code",
        "colab": {}
      },
      "source": [
        "a = np.arange(10).reshape(2,-1)\n",
        "b = np.repeat(1, 10).reshape(2,-1)\n",
        "\n",
        "# Answers\n",
        "# Method 1:\n",
        "np.concatenate([a, b], axis=1)\n",
        "\n",
        "# Method 2:\n",
        "np.hstack([a, b])\n",
        "\n",
        "# Method 3:\n",
        "np.c_[a, b]"
      ],
      "execution_count": 0,
      "outputs": []
    },
    {
      "cell_type": "markdown",
      "metadata": {
        "id": "3cHUmep9Zkx9",
        "colab_type": "text"
      },
      "source": [
        "**10. Create the following pattern without hardcoding. Use only numpy functions and the below input array a**\n",
        "\n",
        "Input:\n",
        "\n",
        "a = np.array([1,2,3])`\n",
        "\n",
        "Output:\n",
        "\n",
        "array([1, 1, 1, 2, 2, 2, 3, 3, 3, 1, 2, 3, 1, 2, 3, 1, 2, 3])"
      ]
    },
    {
      "cell_type": "code",
      "metadata": {
        "id": "Y-6Jt-6jZ1Qt",
        "colab_type": "code",
        "colab": {}
      },
      "source": [
        "np.r_[np.repeat(a, 3), np.tile(a, 3)]"
      ],
      "execution_count": 0,
      "outputs": []
    },
    {
      "cell_type": "markdown",
      "metadata": {
        "id": "XURn36i4Z2kr",
        "colab_type": "text"
      },
      "source": [
        "**11. Get the common items between a and b**\n",
        "\n",
        "Input:\n",
        "\n",
        "a = np.array([1,2,3,2,3,4,3,4,5,6])\n",
        "b = np.array([7,2,10,2,7,4,9,4,9,8])\n",
        "\n",
        "Desired Output:\n",
        "\n",
        "array([2, 4])"
      ]
    },
    {
      "cell_type": "code",
      "metadata": {
        "id": "3nIINDhjaDXd",
        "colab_type": "code",
        "colab": {}
      },
      "source": [
        "a = np.array([1,2,3,2,3,4,3,4,5,6])\n",
        "b = np.array([7,2,10,2,7,4,9,4,9,8])\n",
        "np.intersect1d(a,b)"
      ],
      "execution_count": 0,
      "outputs": []
    },
    {
      "cell_type": "markdown",
      "metadata": {
        "id": "HOVY7MdaaGQ1",
        "colab_type": "text"
      },
      "source": [
        "**12. From array a remove all items present in array b **\n",
        "Input:\n",
        "\n",
        "a = np.array([1,2,3,4,5])\n",
        "b = np.array([5,6,7,8,9])\n",
        "\n",
        "Desired Output:\n",
        "\n",
        "array([1,2,3,4])"
      ]
    },
    {
      "cell_type": "code",
      "metadata": {
        "id": "Mc8B3xAzaPTG",
        "colab_type": "code",
        "colab": {}
      },
      "source": [
        "a = np.array([1,2,3,4,5])\n",
        "b = np.array([5,6,7,8,9])\n",
        "\n",
        "# From 'a' remove all of 'b'\n",
        "np.setdiff1d(a,b)"
      ],
      "execution_count": 0,
      "outputs": []
    },
    {
      "cell_type": "markdown",
      "metadata": {
        "id": "Pm5QhQ-EaWb1",
        "colab_type": "text"
      },
      "source": [
        "**13. Get the positions where elements of a and b match**\n",
        "Input:\n",
        "\n",
        "a = np.array([1,2,3,2,3,4,3,4,5,6])\n",
        "b = np.array([7,2,10,2,7,4,9,4,9,8])\n",
        "\n",
        "Desired Output:\n",
        "\n",
        "(array([1, 3, 5, 7]),)"
      ]
    },
    {
      "cell_type": "code",
      "metadata": {
        "id": "GfSJwDLMautO",
        "colab_type": "code",
        "colab": {}
      },
      "source": [
        "a = np.array([1,2,3,2,3,4,3,4,5,6])\n",
        "b = np.array([7,2,10,2,7,4,9,4,9,8])\n",
        "\n",
        "np.where(a == b)"
      ],
      "execution_count": 0,
      "outputs": []
    },
    {
      "cell_type": "markdown",
      "metadata": {
        "id": "_9uvToiQaxw0",
        "colab_type": "text"
      },
      "source": [
        "**14. Get all items between 5 and 10 from a.**\n",
        "\n",
        "Input:\n",
        "\n",
        "a = np.array([2, 6, 1, 9, 10, 3, 27])\n",
        "\n",
        "Desired Output:\n",
        "\n",
        "(array([6, 9, 10]),)"
      ]
    },
    {
      "cell_type": "code",
      "metadata": {
        "id": "MK3dBtJda7LU",
        "colab_type": "code",
        "colab": {}
      },
      "source": [
        "a = np.arange(15)\n",
        "\n",
        "# Method 1\n",
        "index = np.where((a >= 5) & (a <= 10))\n",
        "a[index]\n",
        "\n",
        "# Method 2:\n",
        "index = np.where(np.logical_and(a>=5, a<=10))\n",
        "a[index]\n",
        "#> (array([6, 9, 10]),)\n",
        "\n",
        "# Method 3: (thanks loganzk!)\n",
        "a[(a >= 5) & (a <= 10)]"
      ],
      "execution_count": 0,
      "outputs": []
    },
    {
      "cell_type": "markdown",
      "metadata": {
        "id": "aYUdQYg4ba4F",
        "colab_type": "text"
      },
      "source": [
        "**15. Reverse the rows of a 2D array arr.**\n",
        "\n",
        "Input\n",
        "\n",
        "arr = np.arange(9).reshape(3,3)\n"
      ]
    },
    {
      "cell_type": "code",
      "metadata": {
        "id": "oguvnAU0bjhC",
        "colab_type": "code",
        "colab": {}
      },
      "source": [
        "# Input\n",
        "arr = np.arange(9).reshape(3,3)\n",
        "\n",
        "# Solution\n",
        "arr[::-1]"
      ],
      "execution_count": 0,
      "outputs": []
    },
    {
      "cell_type": "markdown",
      "metadata": {
        "id": "UFURgXZ6bmCn",
        "colab_type": "text"
      },
      "source": [
        "**16 Reverse the columns of a 2D array arr.**\n",
        "\n",
        "Input\n",
        "arr = np.arange(9).reshape(3,3)"
      ]
    },
    {
      "cell_type": "code",
      "metadata": {
        "id": "inZgeCF6bzk7",
        "colab_type": "code",
        "outputId": "95e65fe6-9122-48e4-de40-9d8ba73fcec3",
        "colab": {
          "base_uri": "https://localhost:8080/",
          "height": 68
        }
      },
      "source": [
        "# Input\n",
        "arr = np.arange(9).reshape(3,3)\n",
        "\n",
        "# Solution\n",
        "arr[:, ::-1]"
      ],
      "execution_count": 0,
      "outputs": [
        {
          "output_type": "execute_result",
          "data": {
            "text/plain": [
              "array([[2, 1, 0],\n",
              "       [5, 4, 3],\n",
              "       [8, 7, 6]])"
            ]
          },
          "metadata": {
            "tags": []
          },
          "execution_count": 3
        }
      ]
    },
    {
      "cell_type": "markdown",
      "metadata": {
        "id": "THANisuvb5fd",
        "colab_type": "text"
      },
      "source": [
        "**16 . Create a 2D array of shape 5x3 to contain random decimal numbers between 5 and 10.**"
      ]
    },
    {
      "cell_type": "code",
      "metadata": {
        "id": "B8W8UaXZb0OE",
        "colab_type": "code",
        "colab": {}
      },
      "source": [
        "arr = np.arange(9).reshape(3,3)\n",
        "\n",
        "# Solution Method 1:\n",
        "rand_arr = np.random.randint(low=5, high=10, size=(5,3)) + np.random.random((5,3))\n",
        "# print(rand_arr)\n",
        "\n",
        "# Solution Method 2:\n",
        "rand_arr = np.random.uniform(5,10, size=(5,3))\n",
        "print(rand_arr)"
      ],
      "execution_count": 0,
      "outputs": []
    },
    {
      "cell_type": "markdown",
      "metadata": {
        "id": "yhb4uXsab_zl",
        "colab_type": "text"
      },
      "source": [
        "https://www.machinelearningplus.com/python/101-numpy-exercises-python/"
      ]
    },
    {
      "cell_type": "code",
      "metadata": {
        "id": "N4aVfi9bc6xv",
        "colab_type": "code",
        "colab": {}
      },
      "source": [
        ""
      ],
      "execution_count": 0,
      "outputs": []
    }
  ]
}